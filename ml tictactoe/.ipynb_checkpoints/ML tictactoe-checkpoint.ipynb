{
 "cells": [
  {
   "cell_type": "code",
   "execution_count": 1,
   "id": "intended-automation",
   "metadata": {},
   "outputs": [],
   "source": [
    "import tensorflow"
   ]
  },
  {
   "cell_type": "code",
   "execution_count": 2,
   "id": "expensive-slovenia",
   "metadata": {},
   "outputs": [],
   "source": [
    "import random"
   ]
  },
  {
   "cell_type": "code",
   "execution_count": 3,
   "id": "minimal-cassette",
   "metadata": {},
   "outputs": [],
   "source": [
    "class TicTacToe:\n",
    "    def __init__(self, board, turn):\n",
    "        self.board = board\n",
    "        self.turn = turn\n",
    "    \n",
    "    def getNextBoards(self):\n",
    "        boards = []\n",
    "        piece = 1 if self.turn % 2 == 0 else -1\n",
    "        for x in range(3):\n",
    "            for y in range(3):\n",
    "                if self.board[x + 3 * y] != 0:\n",
    "                    continue\n",
    "                board = self.board.copy()\n",
    "                board[x + 3 * y] = piece\n",
    "                boards += [board]\n",
    "        return boards\n",
    "    \n",
    "    def winner(self):\n",
    "        if self.turn == 9:\n",
    "            return 0\n",
    "        if (self.board[0 + 3 *0]==self.board[1 + 3 *1] and \\\n",
    "            self.board[0 + 3 *0]==self.board[2 + 3 *2] or \\\n",
    "            self.board[0 + 3 *2]==self.board[1 + 3 *1] and \\\n",
    "            self.board[0 + 3 *2]==self.board[2 + 3 *0]) and \\\n",
    "            self.board[1 + 3 *1]!=0:\n",
    "                return self.board[1 + 3 *1]\n",
    "        for rowOrCol in range(3):\n",
    "            if  self.board[rowOrCol + 3 *0]==self.board[rowOrCol + 3 *1] and \\\n",
    "                self.board[rowOrCol + 3 *0]==self.board[rowOrCol + 3 *2] and \\\n",
    "                self.board[rowOrCol + 3 *0]!=0:\n",
    "                    return self.board[rowOrCol + 3 *0]\n",
    "            if  self.board[0 + 3 *rowOrCol]==self.board[1 + 3 *rowOrCol] and \\\n",
    "                self.board[0 + 3 *rowOrCol]==self.board[2 + 3 *rowOrCol] and \\\n",
    "                self.board[0 + 3 *rowOrCol]!=0:\n",
    "                    return self.board[0 + 3 *rowOrCol]\n",
    "        return None\n",
    "    \n",
    "    def __str__(self):\n",
    "        s = \"\"\n",
    "        for x in range(3):\n",
    "            for y in range(3):\n",
    "                if self.board[x + 3*y] == 1:\n",
    "                    s += 'X'\n",
    "                elif self.board[x + 3*y] == -1:\n",
    "                    s += 'O'\n",
    "                else:\n",
    "                    s += '_'\n",
    "            s += '\\n'\n",
    "        return s"
   ]
  },
  {
   "cell_type": "code",
   "execution_count": 4,
   "id": "christian-fluid",
   "metadata": {},
   "outputs": [],
   "source": [
    "def argmax(l):\n",
    "    index, max_val = 0, l[0]\n",
    "    for i in range(1, len(l)):\n",
    "        if l[i] > max_val:\n",
    "            index, max_val = i, l[i]\n",
    "    return index"
   ]
  },
  {
   "cell_type": "code",
   "execution_count": 5,
   "id": "dutch-nowhere",
   "metadata": {},
   "outputs": [],
   "source": [
    "def argmin(l):\n",
    "    return argmax([-i for i in l])"
   ]
  },
  {
   "cell_type": "code",
   "execution_count": 6,
   "id": "reverse-dining",
   "metadata": {},
   "outputs": [],
   "source": [
    "def getModel():\n",
    "    m = tensorflow.keras.models.Sequential()\n",
    "    m.add(tensorflow.keras.layers.Dense(8, input_dim=9, activation='relu'))\n",
    "    m.add(tensorflow.keras.layers.Dense(8, input_dim=8, activation='relu'))\n",
    "    m.add(tensorflow.keras.layers.Dense(8, input_dim=8, activation='relu'))\n",
    "    m.add(tensorflow.keras.layers.Dense(1, activation='sigmoid'))\n",
    "    m.compile(loss='mse', optimizer=tensorflow.keras.optimizers.Adam(learning_rate=1e-2))\n",
    "    return m"
   ]
  },
  {
   "cell_type": "code",
   "execution_count": 7,
   "id": "obvious-deviation",
   "metadata": {},
   "outputs": [],
   "source": [
    "X = getModel()"
   ]
  },
  {
   "cell_type": "code",
   "execution_count": 8,
   "id": "turned-contamination",
   "metadata": {},
   "outputs": [],
   "source": [
    "O = getModel()"
   ]
  },
  {
   "cell_type": "code",
   "execution_count": 47,
   "id": "interstate-sodium",
   "metadata": {},
   "outputs": [
    {
     "name": "stdout",
     "output_type": "stream",
     "text": [
      "0.025 0.028\n",
      "0.017 0.017\n",
      "0.011 0.014\n",
      "0.013 0.008\n",
      "0.023 0.017\n",
      "0.028 0.025\n",
      "0.024 0.026\n",
      "0.019 0.027\n",
      "0.019 0.020\n",
      "0.013 0.023\n",
      "0.017 0.019\n",
      "0.021 0.023\n",
      "0.015 0.018\n",
      "0.015 0.022\n",
      "0.011 0.013\n",
      "0.011 0.008\n",
      "0.015 0.024\n",
      "0.021 0.016\n",
      "0.011 0.005\n",
      "0.010 0.012\n",
      "0.013 0.011\n",
      "0.012 0.020\n",
      "0.014 0.021\n",
      "0.012 0.024\n",
      "0.009 0.010\n",
      "0.019 0.010\n",
      "0.010 0.013\n",
      "0.009 0.013\n",
      "0.014 0.017\n",
      "0.015 0.017\n",
      "0.005 0.004\n",
      "0.009 0.014\n",
      "0.005 0.012\n",
      "0.012 0.011\n",
      "0.007 0.022\n",
      "0.014 0.019\n",
      "0.010 0.017\n",
      "0.010 0.020\n",
      "0.007 0.011\n",
      "0.017 0.012\n",
      "0.006 0.018\n",
      "0.010 0.010\n",
      "0.010 0.010\n",
      "0.011 0.014\n",
      "0.009 0.009\n",
      "0.009 0.013\n",
      "0.009 0.014\n",
      "0.009 0.005\n",
      "0.006 0.011\n",
      "0.007 0.004\n",
      "0.004 0.009\n",
      "0.007 0.010\n",
      "0.011 0.012\n",
      "0.007 0.015\n",
      "0.012 0.016\n",
      "0.005 0.009\n",
      "0.002 0.005\n",
      "0.009 0.020\n",
      "0.004 0.005\n",
      "0.005 0.009\n",
      "0.008 0.009\n",
      "0.016 0.009\n",
      "0.004 0.010\n",
      "0.007 0.018\n",
      "0.012 0.011\n",
      "0.014 0.009\n",
      "0.008 0.016\n",
      "0.008 0.017\n",
      "0.009 0.008\n",
      "0.002 0.009\n",
      "0.014 0.008\n",
      "0.008 0.011\n",
      "0.011 0.007\n",
      "0.019 0.032\n",
      "0.006 0.006\n",
      "0.007 0.008\n",
      "0.008 0.029\n",
      "0.019 0.031\n",
      "0.010 0.009\n",
      "0.016 0.009\n",
      "0.009 0.007\n",
      "0.008 0.008\n",
      "0.019 0.031\n",
      "0.012 0.012\n",
      "0.010 0.023\n",
      "0.012 0.022\n",
      "0.013 0.023\n",
      "0.015 0.019\n",
      "0.014 0.019\n",
      "0.016 0.018\n",
      "0.012 0.010\n",
      "0.018 0.014\n",
      "0.014 0.015\n",
      "0.015 0.015\n",
      "0.010 0.010\n",
      "0.016 0.024\n",
      "0.013 0.035\n",
      "0.008 0.009\n",
      "0.029 0.021\n",
      "0.014 0.015\n"
     ]
    }
   ],
   "source": [
    "for game in range(100):\n",
    "    data = {\n",
    "        X: [[], []],\n",
    "        O: [[], []],\n",
    "    }\n",
    "    for actualgames in range(20):\n",
    "        board = TicTacToe([0] * 9, 0)\n",
    "        while board.winner() == None:\n",
    "            Xplaying = board.turn % 2 == 0\n",
    "            nextBoards = board.getNextBoards()\n",
    "            player = X if Xplaying else O\n",
    "            opponent = O if Xplaying else X\n",
    "            values = opponent.predict([b for b in nextBoards])\n",
    "            for i, b in enumerate(nextBoards):\n",
    "                b = TicTacToe(b, board.turn + 1)\n",
    "                w = b.winner()\n",
    "                if w is not None:\n",
    "                    values[i] = 0.5 if w == 0 else 0 # Tie or win (opponent loses -> 0)\n",
    "            bestIndex = argmin(values) # Minimize value of opponent\n",
    "            bestVal = values[bestIndex]\n",
    "            data[player][0] += [board.board]\n",
    "            data[player][1] += [1-float(bestVal)] # your value will be 1 - opponent value\n",
    "            if random.random() > 0.8:\n",
    "                board = TicTacToe(nextBoards[random.randint(0, len(values)-1)], board.turn + 1)\n",
    "            else:\n",
    "                board = TicTacToe(nextBoards[bestIndex], board.turn + 1)\n",
    "    print(*[f\"{player.fit(datapoints[0], datapoints[1], verbose = False).history['loss'][0]:.3f}\" for player, datapoints in data.items()])"
   ]
  },
  {
   "cell_type": "code",
   "execution_count": 48,
   "id": "fourth-debut",
   "metadata": {},
   "outputs": [],
   "source": [
    "class Player():\n",
    "    def __init__(self, random = False, human=False):\n",
    "        self.random = random\n",
    "        self.human = human\n",
    "    \n",
    "    def move(self, board):\n",
    "        if self.human:\n",
    "            print(board)\n",
    "            move = input()\n",
    "            x, y = move.split()\n",
    "            x, y = int(x), int(y)\n",
    "            newboard = board.board\n",
    "            newboard[x + 3 * y] = 1 if board.turn % 2 == 0 else -1\n",
    "            newboard = TicTacToe(newboard, board.turn + 1)\n",
    "            print(newboard)\n",
    "            return newboard\n",
    "        else: # else is faster in python\n",
    "            nextBoards = board.getNextBoards()\n",
    "            if self.random:\n",
    "                return TicTacToe(nextBoards[random.randint(0, len(nextBoards)-1)], board.turn + 1)\n",
    "            else:\n",
    "                opponent = O if board.turn % 2 == 0 else X\n",
    "                values = [opponent.predict([b])[0][0] for b in nextBoards]\n",
    "                for i, b in enumerate(nextBoards):\n",
    "                    w = TicTacToe(b, board.turn + 1).winner()\n",
    "                    if w is not None:\n",
    "                        values[i] = 0.5 if w == 0 else 0 # Tie or opponent wins\n",
    "                        break\n",
    "                bestIndex = argmin(values)\n",
    "                return TicTacToe(nextBoards[bestIndex], board.turn + 1)"
   ]
  },
  {
   "cell_type": "code",
   "execution_count": 49,
   "id": "ordinary-premium",
   "metadata": {},
   "outputs": [],
   "source": [
    "def play(p1, p2, verbose = False):\n",
    "    players = [p1, p2]\n",
    "    turn = 0\n",
    "    board = TicTacToe([0] * 9, turn)\n",
    "    while board.winner() == None:\n",
    "        player = players[board.turn % 2]\n",
    "        board = player.move(board)\n",
    "    w = board.winner()\n",
    "    if verbose:\n",
    "        if w == 1:\n",
    "            print('X')\n",
    "        elif w == -1:\n",
    "            print('O')\n",
    "        else:\n",
    "            print('-')\n",
    "    return (w + 1) / 2"
   ]
  },
  {
   "cell_type": "code",
   "execution_count": 50,
   "id": "wanted-establishment",
   "metadata": {},
   "outputs": [],
   "source": [
    "k = 100"
   ]
  },
  {
   "cell_type": "code",
   "execution_count": 53,
   "id": "forbidden-rouge",
   "metadata": {},
   "outputs": [
    {
     "data": {
      "text/plain": [
       "1.0"
      ]
     },
     "execution_count": 53,
     "metadata": {},
     "output_type": "execute_result"
    }
   ],
   "source": [
    "play(Player(), Player())"
   ]
  },
  {
   "cell_type": "code",
   "execution_count": 51,
   "id": "unauthorized-slide",
   "metadata": {},
   "outputs": [
    {
     "data": {
      "text/plain": [
       "0.935"
      ]
     },
     "execution_count": 51,
     "metadata": {},
     "output_type": "execute_result"
    }
   ],
   "source": [
    "sum([play(Player(), Player(True)) for i in range(k)]) / k"
   ]
  },
  {
   "cell_type": "code",
   "execution_count": 52,
   "id": "latter-alarm",
   "metadata": {},
   "outputs": [
    {
     "data": {
      "text/plain": [
       "0.69"
      ]
     },
     "execution_count": 52,
     "metadata": {},
     "output_type": "execute_result"
    }
   ],
   "source": [
    "1 - sum([play(Player(True), Player()) for i in range(k)]) / k"
   ]
  }
 ],
 "metadata": {
  "kernelspec": {
   "display_name": "Python 3",
   "language": "python",
   "name": "python3"
  },
  "language_info": {
   "codemirror_mode": {
    "name": "ipython",
    "version": 3
   },
   "file_extension": ".py",
   "mimetype": "text/x-python",
   "name": "python",
   "nbconvert_exporter": "python",
   "pygments_lexer": "ipython3",
   "version": "3.8.5"
  }
 },
 "nbformat": 4,
 "nbformat_minor": 5
}
